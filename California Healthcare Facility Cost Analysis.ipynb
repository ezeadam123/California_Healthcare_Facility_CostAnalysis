{
 "cells": [
  {
   "cell_type": "code",
   "execution_count": 27,
   "metadata": {},
   "outputs": [],
   "source": [
    "import pandas as pd\n",
    "import matplotlib.pyplot as plotter"
   ]
  },
  {
   "cell_type": "code",
   "execution_count": 28,
   "metadata": {
    "scrolled": true
   },
   "outputs": [],
   "source": [
    "healthcare_facility_costdf = pd.read_csv(\"healthcare_constructioncost.csv\")"
   ]
  },
  {
   "cell_type": "code",
   "execution_count": 29,
   "metadata": {
    "scrolled": false
   },
   "outputs": [],
   "source": [
    "\n",
    "def calculate_county_cost(cty):\n",
    "    \n",
    "    county_projects = 0\n",
    "    total_cost = 0\n",
    "    for i in healthcare_facility_costdf.index:\n",
    "        if healthcare_facility_costdf.iloc[:, 2][i] == \"In Construction\":\n",
    "            if healthcare_facility_costdf.iloc[:, 0][i] == cty:\n",
    "                if \"$\" or \",\" in healthcare_facility_costdf.iloc[:, 3][i]:\n",
    "                    \n",
    "                    f1 = healthcare_facility_costdf.iloc[:, 3][i].replace(\"$\", \"\")\n",
    "                    f2 = f1.replace(\".00\", \"\")\n",
    "                    f3_final_facility_cost = f2.replace(\",\", \"\")\n",
    "                    #print(\"Cost {}\".format(f3_final_facility_cost))\n",
    "                    \n",
    "                    cost_int = float(f3_final_facility_cost)\n",
    "                    total_cost = total_cost + cost_int\n",
    "                    #print(\"Project already in construction: {} \".format(i))\n",
    "                    county_projects +=1\n",
    "                    #41,990 healthcare facilities already in construction\n",
    "        \n",
    "\n",
    "    \n",
    "    print(\"Total cost: ${t_cost:1.2f}\".format(t_cost = total_cost))    \n",
    "                \n",
    "    print(\"Amount of healthcare facilities in construction for {} county: {} projects\".format(cty, county_projects))\n",
    "                    \n",
    "    return total_cost\n",
    "    \n",
    "\n",
    "\n",
    "\n"
   ]
  },
  {
   "cell_type": "code",
   "execution_count": 30,
   "metadata": {},
   "outputs": [
    {
     "name": "stdout",
     "output_type": "stream",
     "text": [
      "Total cost: $10293175347.00\n",
      "Amount of healthcare facilities in construction for 58 - Yuba county: 181 projects\n"
     ]
    }
   ],
   "source": [
    "\n",
    "finalcostyuba = calculate_county_cost(\"58 - Yuba\")\n",
    "\n"
   ]
  },
  {
   "cell_type": "code",
   "execution_count": 31,
   "metadata": {},
   "outputs": [
    {
     "name": "stdout",
     "output_type": "stream",
     "text": [
      "Total cost: $1750909045.60\n",
      "Amount of healthcare facilities in construction for 57 - Yolo county: 181 projects\n"
     ]
    }
   ],
   "source": [
    "finalcostyolo = calculate_county_cost(\"57 - Yolo\")"
   ]
  },
  {
   "cell_type": "code",
   "execution_count": 32,
   "metadata": {},
   "outputs": [
    {
     "name": "stdout",
     "output_type": "stream",
     "text": [
      "Total cost: $123380619262.59\n",
      "Amount of healthcare facilities in construction for 01 - Alameda county: 181 projects\n"
     ]
    }
   ],
   "source": [
    "finalcostalameda = calculate_county_cost(\"01 - Alameda\")\n"
   ]
  },
  {
   "cell_type": "code",
   "execution_count": 33,
   "metadata": {},
   "outputs": [
    {
     "name": "stdout",
     "output_type": "stream",
     "text": [
      "Total cost: $4123561.00\n",
      "Amount of healthcare facilities in construction for 06 - Colusa county: 181 projects\n"
     ]
    }
   ],
   "source": [
    "finalcostcolusa = calculate_county_cost(\"06 - Colusa\")"
   ]
  },
  {
   "cell_type": "code",
   "execution_count": 34,
   "metadata": {
    "scrolled": true
   },
   "outputs": [
    {
     "name": "stdout",
     "output_type": "stream",
     "text": [
      "Total cost: $426136775.00\n",
      "Amount of healthcare facilities in construction for 08 - Del Norte county: 181 projects\n"
     ]
    }
   ],
   "source": [
    "finalcostdelnorte = calculate_county_cost(\"08 - Del Norte\")"
   ]
  },
  {
   "cell_type": "code",
   "execution_count": 35,
   "metadata": {},
   "outputs": [
    {
     "name": "stdout",
     "output_type": "stream",
     "text": [
      "Total cost: $17493966499.17\n",
      "Amount of healthcare facilities in construction for 41 - San Mateo county: 181 projects\n"
     ]
    }
   ],
   "source": [
    "finalcostsanmateo = calculate_county_cost(\"41 - San Mateo\")"
   ]
  },
  {
   "cell_type": "code",
   "execution_count": 36,
   "metadata": {},
   "outputs": [
    {
     "name": "stdout",
     "output_type": "stream",
     "text": [
      "Total cost: $335857537.30\n",
      "Amount of healthcare facilities in construction for 52 - Tehama county: 181 projects\n"
     ]
    }
   ],
   "source": [
    "finalcosttehama = calculate_county_cost(\"52 - Tehama\")"
   ]
  },
  {
   "cell_type": "code",
   "execution_count": 37,
   "metadata": {},
   "outputs": [
    {
     "name": "stdout",
     "output_type": "stream",
     "text": [
      "Total cost: $4196822062.38\n",
      "Amount of healthcare facilities in construction for 50 - Stanislaus county: 181 projects\n"
     ]
    }
   ],
   "source": [
    "finalcostsani = calculate_county_cost(\"50 - Stanislaus\")"
   ]
  },
  {
   "cell_type": "code",
   "execution_count": 38,
   "metadata": {
    "scrolled": false
   },
   "outputs": [
    {
     "name": "stdout",
     "output_type": "stream",
     "text": [
      "Total cost: $2288903947.57\n",
      "Amount of healthcare facilities in construction for 44 - Santa Cruz county: 181 projects\n"
     ]
    }
   ],
   "source": [
    "finalcostsantacruz = calculate_county_cost(\"44 - Santa Cruz\")"
   ]
  },
  {
   "cell_type": "code",
   "execution_count": 39,
   "metadata": {},
   "outputs": [
    {
     "name": "stdout",
     "output_type": "stream",
     "text": [
      "Total cost: $68964501859.69\n",
      "Amount of healthcare facilities in construction for 36 - San Bernardino county: 181 projects\n"
     ]
    }
   ],
   "source": [
    "finalcostsbernard = calculate_county_cost(\"36 - San Bernardino\")"
   ]
  },
  {
   "cell_type": "code",
   "execution_count": 40,
   "metadata": {},
   "outputs": [
    {
     "name": "stdout",
     "output_type": "stream",
     "text": [
      "Total cost: $50914405871.69\n",
      "Amount of healthcare facilities in construction for 34 - Sacramento county: 181 projects\n"
     ]
    }
   ],
   "source": [
    "finalcostsacramento = calculate_county_cost(\"34 - Sacramento\")"
   ]
  },
  {
   "cell_type": "code",
   "execution_count": 41,
   "metadata": {
    "scrolled": false
   },
   "outputs": [
    {
     "data": {
      "text/plain": [
       "([0, 1, 2, 3, 4, 5, 6, 7, 8], <a list of 9 Text xticklabel objects>)"
      ]
     },
     "execution_count": 41,
     "metadata": {},
     "output_type": "execute_result"
    },
    {
     "data": {
      "image/png": "[encoded data removed]",
      "text/plain": [
       "<Figure size 432x288 with 1 Axes>"
      ]
     },
     "metadata": {
      "needs_background": "light"
     },
     "output_type": "display_data"
    }
   ],
   "source": [
    "#%matplotlib ipympl\n",
    "\n",
    "import numpy as np\n",
    "\n",
    "ax1 = plotter.subplot2grid((1, 1), (0, 0), rowspan = 5, colspan = 1)\n",
    "\n",
    "ax1.set_title(\"Healthcare Facilities Cost Analysis by County, 2013-2020\")\n",
    "ax1.set_xlabel(\"Counties\")\n",
    "ax1.set_ylabel(\"Cost (1e11)\")\n",
    "ax1.bar(\"Yuba\", finalcostyuba)\n",
    "ax1.bar(\"Yolo\", finalcostyolo)\n",
    "#ax1.bar(\"Alameda\", finalcostalameda)\n",
    "#ax1.bar(\"Colusa\", finalcostcolusa, label = \" $4123561 \")\n",
    "ax1.bar(\"Del Norte\", finalcostdelnorte)\n",
    "ax1.bar(\"San Mateo\", finalcostsanmateo)\n",
    "ax1.bar(\"Tehama\", finalcosttehama)\n",
    "ax1.bar(\"Stanislaus\", finalcostsani)\n",
    "ax1.bar(\"Santa Cruz\", finalcostsantacruz)\n",
    "ax1.bar(\"San Bernardino\", finalcostsbernard)\n",
    "ax1.bar(\"Sacramento\", finalcostsacramento)\n",
    "plotter.xticks(rotation=50)\n",
    "\n",
    "\n",
    "\n"
   ]
  },
  {
   "cell_type": "code",
   "execution_count": 42,
   "metadata": {},
   "outputs": [
    {
     "name": "stdout",
     "output_type": "stream",
     "text": [
      "Based on data from these 10 counties in California, we can   San Bernardino has the highest\n",
      "healthcare facilities cost in the dataset.\n"
     ]
    }
   ],
   "source": [
    "print(\"Based on data from these 10 counties in California, we can   San Bernardino has the highest\\nhealthcare facilities cost in the dataset.\")"
   ]
  }
 ],
 "metadata": {
  "kernelspec": {
   "display_name": "Python 3",
   "language": "python",
   "name": "python3"
  },
  "language_info": {
   "codemirror_mode": {
    "name": "ipython",
    "version": 3
   },
   "file_extension": ".py",
   "mimetype": "text/x-python",
   "name": "python",
   "nbconvert_exporter": "python",
   "pygments_lexer": "ipython3",
   "version": "3.7.6"
  }
 },
 "nbformat": 4,
 "nbformat_minor": 4
}
